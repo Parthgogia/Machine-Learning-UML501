{
 "cells": [
  {
   "cell_type": "code",
   "execution_count": 1,
   "metadata": {
    "colab": {
     "base_uri": "https://localhost:8080/"
    },
    "id": "x8r0ZH9BRwdX",
    "outputId": "b9113b20-8a58-46ec-e4b1-9363e6d3509b"
   },
   "outputs": [
    {
     "name": "stdout",
     "output_type": "stream",
     "text": [
      "[5 4 6 3 2 1]\n",
      "[5 4 6 3 2 1]\n"
     ]
    }
   ],
   "source": [
    "import numpy as np\n",
    "x = np.array([1,2,3,6,4,5])\n",
    "y = x[::-1]\n",
    "print(y)\n",
    "print(np.flip(x,None))"
   ]
  },
  {
   "cell_type": "code",
   "execution_count": null,
   "metadata": {
    "colab": {
     "base_uri": "https://localhost:8080/"
    },
    "id": "5GUaA7S8SLiS",
    "outputId": "dcd738c3-916d-4bdf-a032-d48c36605dd5"
   },
   "outputs": [
    {
     "name": "stdout",
     "output_type": "stream",
     "text": [
      "[[1 2 3 2 4 5 1 2 3]]\n",
      "[1 2 3 2 4 5 1 2 3]\n",
      "[1 2 3 2 4 5 1 2 3]\n"
     ]
    }
   ],
   "source": [
    "arr1 = np.array([[1,2,3],[2,4,5],[1,2,3]])\n",
    "print(np.resize(arr1,(1,9)))\n",
    "a1 = arr1.ravel()\n",
    "print(a1)\n",
    "a1 = arr1.flatten()\n",
    "print(a1)"
   ]
  },
  {
   "cell_type": "code",
   "execution_count": null,
   "metadata": {
    "colab": {
     "base_uri": "https://localhost:8080/"
    },
    "id": "u--0BLzWVP6v",
    "outputId": "27412cf4-fe3b-4370-f7ad-81382dcc62c9"
   },
   "outputs": [
    {
     "name": "stdout",
     "output_type": "stream",
     "text": [
      "True\n",
      "True\n"
     ]
    }
   ],
   "source": [
    "arr1 = np.array([[1,2],[3,4]])\n",
    "arr2 = np.array([[1,2],[3,4]])\n",
    "print((arr1==arr2).all())\n",
    "print(np.array_equal(arr1,arr2))"
   ]
  },
  {
   "cell_type": "code",
   "execution_count": 3,
   "metadata": {
    "colab": {
     "base_uri": "https://localhost:8080/"
    },
    "id": "sf2q-DU8ABEB",
    "outputId": "e31b9d51-0f73-457c-a231-b2180ff0b07d"
   },
   "outputs": [
    {
     "name": "stdout",
     "output_type": "stream",
     "text": [
      "Element:  1\n",
      "Indices:  [0 5 7 8 9]\n",
      "Element:  1\n",
      "Indices:  [0 1 2]\n"
     ]
    }
   ],
   "source": [
    "import numpy as np\n",
    "x = np.array([1,2,3,4,5,1,2,1,1,1])\n",
    "y = np.array([1,1,1,2,3,4,2,4,3,3])\n",
    "\n",
    "def solve(x):\n",
    "    values,cnts = np.unique(x,return_counts = True)\n",
    "    index = np.argmax(cnts)\n",
    "    el = values[index]\n",
    "    indices = np.where(x==el)[0]\n",
    "    print(\"Element: \",el)\n",
    "    print(\"Indices: \",indices)\n",
    "\n",
    "solve(x)\n",
    "solve(y)"
   ]
  },
  {
   "cell_type": "code",
   "execution_count": 4,
   "metadata": {
    "colab": {
     "base_uri": "https://localhost:8080/"
    },
    "id": "9lUXXvvxPhrA",
    "outputId": "605ef549-d132-4c06-a851-13df15252b00"
   },
   "outputs": [
    {
     "name": "stdout",
     "output_type": "stream",
     "text": [
      "Sum:  45\n",
      "Row-wise sum: [[14]\n",
      " [16]\n",
      " [15]]\n",
      "Column-wise sum: [[20  9 16]]\n"
     ]
    }
   ],
   "source": [
    "gfg = np.matrix('[4,1,9;12,3,1;4,5,6]')\n",
    "print(\"Sum: \",np.sum(gfg))\n",
    "print(\"Row-wise sum:\",np.sum(gfg,1))\n",
    "print(\"Column-wise sum:\",np.sum(gfg,0))"
   ]
  },
  {
   "cell_type": "code",
   "execution_count": 5,
   "metadata": {
    "colab": {
     "base_uri": "https://localhost:8080/"
    },
    "id": "nOtwQCEuPlcb",
    "outputId": "3414e45b-c086-4279-bd39-58fdc3e0ef49"
   },
   "outputs": [
    {
     "name": "stdout",
     "output_type": "stream",
     "text": [
      "Diagonal sum:  176\n",
      "\n",
      "Eigen values: [98.16835147 28.097044   49.73460452]\n",
      "Eigen vectors: [[ 0.4574917   0.34637121 -0.15017693]\n",
      " [ 0.28447814 -0.72784061 -0.4852124 ]\n",
      " [ 0.84248058  0.59184038  0.8614034 ]]\n",
      "\n",
      "Inverse:  [[ 0.02404141 -0.00911212 -0.00444671]\n",
      " [-0.01667882  0.02966905  0.0024785 ]\n",
      " [ 0.00631287 -0.01603732  0.01217379]]\n",
      "\n",
      "Determinant:  137180.0000000001\n"
     ]
    }
   ],
   "source": [
    "arr = np.array([[55,25,15],[30,44,2],[11,45,77]])\n",
    "print(\"Diagonal sum: \", np.trace(arr))\n",
    "print()\n",
    "eigenvalues, eigenvectors = np.linalg.eig(arr)\n",
    "print(\"Eigen values:\", eigenvalues)\n",
    "print(\"Eigen vectors:\", eigenvectors)\n",
    "print()\n",
    "print(\"Inverse: \",np.linalg.inv(arr))\n",
    "print()\n",
    "print(\"Determinant: \",np.linalg.det(arr))"
   ]
  },
  {
   "cell_type": "code",
   "execution_count": 6,
   "metadata": {
    "colab": {
     "base_uri": "https://localhost:8080/"
    },
    "id": "QIRN5pQ-Pnxd",
    "outputId": "340f7b2e-9359-45a3-9a6c-d1a205c082ce"
   },
   "outputs": [
    {
     "name": "stdout",
     "output_type": "stream",
     "text": [
      "product: [[16 19]\n",
      " [26 31]]\n",
      "product: [[16 19]\n",
      " [26 31]]\n",
      "covariance: [[0.5 0.5 0.5 0.5]\n",
      " [0.5 0.5 0.5 0.5]\n",
      " [0.5 0.5 0.5 0.5]\n",
      " [0.5 0.5 0.5 0.5]]\n",
      "\n",
      "product: [[16 19  5]\n",
      " [26 31  8]\n",
      " [46 55 14]]\n",
      "covariance: [[0.5 0.5 0.5 1.  1.  0.5]\n",
      " [0.5 0.5 0.5 1.  1.  0.5]\n",
      " [0.5 0.5 0.5 1.  1.  0.5]\n",
      " [1.  1.  1.  2.  2.  1. ]\n",
      " [1.  1.  1.  2.  2.  1. ]\n",
      " [0.5 0.5 0.5 1.  1.  0.5]]\n"
     ]
    }
   ],
   "source": [
    "p = np.array([[1, 2], [2, 3]])\n",
    "q = np.array([[4, 5], [6, 7]])\n",
    "print(\"product:\",np.dot(p,q))\n",
    "print(\"product:\",np.matmul(p,q))\n",
    "print(\"covariance:\",np.cov(p,q))\n",
    "print()\n",
    "p =  np.array([[1, 2], [2, 3], [4, 5]])\n",
    "q =  np.array([[4, 5, 1], [6, 7, 2]])\n",
    "print(\"product:\",np.dot(p,q))\n",
    "print(\"covariance:\",np.cov(p,q.T))"
   ]
  },
  {
   "cell_type": "code",
   "execution_count": 7,
   "metadata": {
    "colab": {
     "base_uri": "https://localhost:8080/"
    },
    "id": "pXykYlbgPp2P",
    "outputId": "372e8a79-6533-406e-d4a1-872c75d987dc"
   },
   "outputs": [
    {
     "name": "stdout",
     "output_type": "stream",
     "text": [
      "Inner product:  [[17 52]\n",
      " [13 62]]\n",
      "Outer product:  [[ 2 10  0 10 20  6]\n",
      " [ 3 15  0 15 30  9]\n",
      " [ 4 20  0 20 40 12]\n",
      " [ 3 15  0 15 30  9]\n",
      " [ 2 10  0 10 20  6]\n",
      " [ 9 45  0 45 90 27]]\n",
      "Cartesian product:  [(array([2, 3, 4]), array([1, 5, 0])), (array([2, 3, 4]), array([ 5, 10,  3])), (array([3, 2, 9]), array([1, 5, 0])), (array([3, 2, 9]), array([ 5, 10,  3]))]\n"
     ]
    }
   ],
   "source": [
    "x = np.array([[2, 3, 4], [3, 2, 9]])\n",
    "y = np.array([[1, 5, 0], [5, 10, 3]])\n",
    "print(\"Inner product: \",np.inner(x,y))\n",
    "print(\"Outer product: \",np.outer(x,y))\n",
    "\n",
    "import itertools as it\n",
    "print(\"Cartesian product: \",list(it.product(x,y)))"
   ]
  },
  {
   "cell_type": "code",
   "execution_count": 12,
   "metadata": {
    "colab": {
     "base_uri": "https://localhost:8080/"
    },
    "id": "Y1dtmbPcPrV8",
    "outputId": "5eb820ce-af02-4140-b3b1-aea712b646bc"
   },
   "outputs": [
    {
     "name": "stdout",
     "output_type": "stream",
     "text": [
      "Element-wise absolute value:\n",
      "[[1 2 3]\n",
      " [4 5 6]]\n",
      "\n",
      "Percentiles of flattened array (25th, 50th, 75th):\n",
      "[-3.5 -0.5  2.5]\n",
      "\n",
      "Percentiles for each column (25th, 50th, 75th):\n",
      "[[-2.75 -0.25 -3.75]\n",
      " [-1.5   1.5  -1.5 ]\n",
      " [-0.25  3.25  0.75]]\n",
      "\n",
      "Percentiles for each row (25th, 50th, 75th):\n",
      "[[-0.5 -5. ]\n",
      " [ 1.  -4. ]\n",
      " [ 2.   0.5]]\n",
      "\n",
      "Mean of flattened array: -0.5\n",
      "Median of flattened array: -0.5\n",
      "Standard Deviation of flattened array: 3.8622100754188224\n",
      "\n",
      "Mean of each column: [-1.5  1.5 -1.5]\n",
      "Median of each column: [-1.5  1.5 -1.5]\n",
      "Standard Deviation of each column: [2.5 3.5 4.5]\n",
      "\n",
      "Mean of each row: [ 0.66666667 -1.66666667]\n",
      "Median of each row: [ 1. -4.]\n",
      "Standard Deviation of each row: [2.05480467 4.78423336]\n"
     ]
    }
   ],
   "source": [
    "array = np.array([[1, -2, 3],[-4, 5, -6]])\n",
    "print(\"Element-wise absolute value:\")\n",
    "print(np.abs(array))\n",
    "print()\n",
    "\n",
    "print(\"Percentiles of flattened array (25th, 50th, 75th):\")\n",
    "print(np.percentile(array.flatten(), [25, 50, 75]))\n",
    "print()\n",
    "\n",
    "print(\"Percentiles for each column (25th, 50th, 75th):\")\n",
    "print(np.percentile(array, [25, 50, 75], axis=0))\n",
    "print()\n",
    "\n",
    "print(\"Percentiles for each row (25th, 50th, 75th):\")\n",
    "print(np.percentile(array, [25, 50, 75], axis=1))\n",
    "print()\n",
    "\n",
    "print(\"Mean of flattened array:\", np.mean(array))\n",
    "print(\"Median of flattened array:\", np.median(array))\n",
    "print(\"Standard Deviation of flattened array:\", np.std(array))\n",
    "print()\n",
    "\n",
    "print(\"Mean of each column:\", np.mean(array, axis=0))\n",
    "print(\"Median of each column:\", np.median(array, axis=0))\n",
    "print(\"Standard Deviation of each column:\", np.std(array, axis=0))\n",
    "print()\n",
    "\n",
    "print(\"Mean of each row:\", np.mean(array, axis=1))\n",
    "print(\"Median of each row:\", np.median(array, axis=1))\n",
    "print(\"Standard Deviation of each row:\", np.std(array, axis=1))"
   ]
  },
  {
   "cell_type": "code",
   "execution_count": 13,
   "metadata": {
    "colab": {
     "base_uri": "https://localhost:8080/"
    },
    "id": "fWC7Sw0cPs81",
    "outputId": "bf2c8255-ece0-418c-d597-e3f2aa66f82d"
   },
   "outputs": [
    {
     "name": "stdout",
     "output_type": "stream",
     "text": [
      "[-2. -2. -1.  0.  1.  1.  3.]\n",
      "[-1. -1. -0.  1.  2.  2.  3.]\n",
      "[-1. -1. -0.  0.  1.  1.  3.]\n",
      "[-2. -2. -0.  0.  2.  2.  3.]\n"
     ]
    }
   ],
   "source": [
    "a = np.array([-1.8, -1.6, -0.5, 0.5,1.6, 1.8, 3.0])\n",
    "print(np.floor(a))\n",
    "print(np.ceil(a))\n",
    "print(np.trunc(a))\n",
    "print(np.round(a))"
   ]
  },
  {
   "cell_type": "code",
   "execution_count": 16,
   "metadata": {
    "colab": {
     "base_uri": "https://localhost:8080/"
    },
    "id": "O4G0MSO6YaPr",
    "outputId": "033cefec-8e90-42bb-d1ca-7cab2723673e"
   },
   "outputs": [
    {
     "name": "stdout",
     "output_type": "stream",
     "text": [
      "sorted array:  [ 10  16  16  52  54  62 453]\n",
      "indices of sorted array:  [0 3 4 1 5 2 6]\n",
      "4 smallest elements:  [10 16 16 52]\n",
      "5 largest elements:  [ 16  52  54  62 453]\n"
     ]
    }
   ],
   "source": [
    "array = np.array([10, 52, 62, 16, 16, 54, 453])\n",
    "sorted = np.sort(array)\n",
    "print(\"sorted array: \",sorted)\n",
    "print(\"indices of sorted array: \", np.argsort(array))\n",
    "print(\"4 smallest elements: \", sorted[:4])\n",
    "print(\"5 largest elements: \", sorted[-5:])"
   ]
  },
  {
   "cell_type": "code",
   "execution_count": 22,
   "metadata": {
    "colab": {
     "base_uri": "https://localhost:8080/"
    },
    "id": "0CX7M-jGYtts",
    "outputId": "a026527c-d493-414c-9fe2-53bdfa81e12b"
   },
   "outputs": [
    {
     "name": "stdout",
     "output_type": "stream",
     "text": [
      "[1. 2. 3. 2.]\n",
      "[1.  1.2 2.2 2.  3.  2. ]\n"
     ]
    }
   ],
   "source": [
    "array = np.array([1.0, 1.2, 2.2, 2.0, 3.0, 2.0])\n",
    "print(\"Integer elements: \",array[np.where(array == array.astype(int))])\n",
    "print(\"Float elements: \",array[np.where(array == array.astype(float))])"
   ]
  },
  {
   "cell_type": "code",
   "execution_count": 5,
   "metadata": {
    "id": "QLWfaI2PZRT6"
   },
   "outputs": [
    {
     "name": "stdout",
     "output_type": "stream",
     "text": [
      "Saved array data to C:\\Users\\Parth\\Downloads\\front.txt\n",
      "[[[21 17 16]\n",
      "  [21 17 16]\n",
      "  [21 17 16]\n",
      "  ...\n",
      "  [16 12 11]\n",
      "  [16 12 11]\n",
      "  [16 12 11]]\n",
      "\n",
      " [[21 17 16]\n",
      "  [21 17 16]\n",
      "  [21 17 16]\n",
      "  ...\n",
      "  [16 12 11]\n",
      "  [16 12 11]\n",
      "  [16 12 11]]\n",
      "\n",
      " [[21 17 16]\n",
      "  [21 17 16]\n",
      "  [21 17 16]\n",
      "  ...\n",
      "  [16 12 11]\n",
      "  [16 12 11]\n",
      "  [16 12 11]]\n",
      "\n",
      " ...\n",
      "\n",
      " [[36 32 29]\n",
      "  [35 31 28]\n",
      "  [35 31 28]\n",
      "  ...\n",
      "  [14  7 14]\n",
      "  [14  7 14]\n",
      "  [14  7 14]]\n",
      "\n",
      " [[36 32 29]\n",
      "  [35 31 28]\n",
      "  [35 31 28]\n",
      "  ...\n",
      "  [14  7 14]\n",
      "  [14  7 14]\n",
      "  [14  7 14]]\n",
      "\n",
      " [[36 32 29]\n",
      "  [35 31 28]\n",
      "  [35 31 28]\n",
      "  ...\n",
      "  [14  7 14]\n",
      "  [14  7 14]\n",
      "  [14  7 14]]]\n"
     ]
    }
   ],
   "source": [
    "from PIL import Image\n",
    "import os\n",
    "\n",
    "def img_to_array(path, txt_path=None):\n",
    "    img = Image.open(path)\n",
    "    arr = np.array(img)\n",
    "\n",
    "    if txt_path is None:\n",
    "        base, _ = os.path.splitext(path)\n",
    "        txt_path = base + '.txt'\n",
    "\n",
    "    if arr.ndim == 2:\n",
    "        # Grayscale image\n",
    "        h, w = arr.shape\n",
    "        header = f\"# GRAYSCALE {h} {w}\"\n",
    "        np.savetxt(txt_path, arr, header=header, fmt='%d')\n",
    "    elif arr.ndim == 3 and arr.shape[2] == 3:\n",
    "        # RGB image\n",
    "        h, w, c = arr.shape\n",
    "        header = f\"# RGB {h} {w} {c}\"\n",
    "        flat = arr.reshape(-1, 3)\n",
    "        np.savetxt(txt_path, flat, header=header, fmt='%d')\n",
    "    else:\n",
    "        raise ValueError(\"Unsupported image format\")\n",
    "\n",
    "    print(f\"Saved array data to {txt_path}\")\n",
    "    return arr\n",
    "\n",
    "\n",
    "def load_img_array(txt_path):\n",
    "\n",
    "    with open(txt_path, 'r') as f:\n",
    "        header = f.readline().strip()\n",
    "    parts = header.lstrip('# ').split()\n",
    "    mode = parts[0]\n",
    "    dims = list(map(int, parts[1:]))\n",
    "\n",
    "    data = np.loadtxt(txt_path)\n",
    "\n",
    "    if mode == 'GRAYSCALE':\n",
    "        h, w = dims\n",
    "        arr = data.reshape(h, w).astype(np.uint8)\n",
    "    elif mode == 'RGB':\n",
    "        h, w, c = dims\n",
    "        arr = data.reshape(h, w, c).astype(np.uint8)\n",
    "    else:\n",
    "        raise ValueError(\"Unknown mode in header\")\n",
    "\n",
    "    return arr\n",
    "\n",
    "\n",
    "\n",
    "img_arr = img_to_array(r\"C:\\Users\\Parth\\Downloads\\front.jpg\")\n",
    "loaded = load_img_array('front.txt')\n",
    "print(loaded)"
   ]
  },
  {
   "cell_type": "code",
   "execution_count": null,
   "metadata": {},
   "outputs": [],
   "source": []
  }
 ],
 "metadata": {
  "colab": {
   "provenance": []
  },
  "kernelspec": {
   "display_name": "Python [conda env:base] *",
   "language": "python",
   "name": "conda-base-py"
  },
  "language_info": {
   "codemirror_mode": {
    "name": "ipython",
    "version": 3
   },
   "file_extension": ".py",
   "mimetype": "text/x-python",
   "name": "python",
   "nbconvert_exporter": "python",
   "pygments_lexer": "ipython3",
   "version": "3.12.7"
  }
 },
 "nbformat": 4,
 "nbformat_minor": 4
}
