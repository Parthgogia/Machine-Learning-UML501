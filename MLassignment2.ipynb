{
  "nbformat": 4,
  "nbformat_minor": 0,
  "metadata": {
    "colab": {
      "provenance": []
    },
    "kernelspec": {
      "name": "python3",
      "display_name": "Python 3"
    },
    "language_info": {
      "name": "python"
    }
  },
  "cells": [
    {
      "cell_type": "markdown",
      "source": [
        "Q1"
      ],
      "metadata": {
        "id": "YhvoDZ1ALpeM"
      }
    },
    {
      "cell_type": "code",
      "execution_count": 2,
      "metadata": {
        "colab": {
          "base_uri": "https://localhost:8080/"
        },
        "id": "hAZfTojcLkJp",
        "outputId": "69f50651-cbcf-4e1e-ae3b-58b8ebb70593"
      },
      "outputs": [
        {
          "output_type": "stream",
          "name": "stdout",
          "text": [
            "   Tid Refund Marital Status Taxable Income Cheat\n",
            "0    1    Yes         Single           125K    No\n",
            "1    2     No        Married           100K    No\n",
            "2    3     No         Single            70K    No\n",
            "3    4    Yes        Married           120K    No\n",
            "4    5     No       Divorced            95K   Yes\n",
            "5    6     No        Married            60K    No\n",
            "6    7    Yes       Divorced           220K    No\n",
            "7    8     No         Single            85K   Yes\n",
            "8    9     No        Married            75K    No\n",
            "9   10     No         Single            90K   Yes\n"
          ]
        }
      ],
      "source": [
        "import pandas as pd\n",
        "data = {\"Tid\" : [i for i in range(1,11)],\n",
        "        \"Refund\": ['Yes','No','No','Yes','No','No','Yes','No','No','No'],\n",
        "        \"Marital Status\": ['Single','Married','Single','Married','Divorced','Married','Divorced','Single','Married','Single'],\n",
        "        \"Taxable Income\": ['125K','100K','70K','120K','95K','60K','220K','85K','75K','90K'],\n",
        "        \"Cheat\": ['No','No','No','No','Yes','No','No','Yes','No','Yes']}\n",
        "df = pd.DataFrame(data)\n",
        "print(df)"
      ]
    },
    {
      "cell_type": "markdown",
      "source": [
        "Q2"
      ],
      "metadata": {
        "id": "XCbuMmhuNzs6"
      }
    },
    {
      "cell_type": "code",
      "source": [
        "print(df.loc[[0,4,7,8]])"
      ],
      "metadata": {
        "colab": {
          "base_uri": "https://localhost:8080/"
        },
        "id": "AIBzuDe4N0ol",
        "outputId": "d89e18ca-69cd-404f-da0f-c9f716ed2feb"
      },
      "execution_count": 4,
      "outputs": [
        {
          "output_type": "stream",
          "name": "stdout",
          "text": [
            "   Tid Refund Marital Status Taxable Income Cheat\n",
            "0    1    Yes         Single           125K    No\n",
            "4    5     No       Divorced            95K   Yes\n",
            "7    8     No         Single            85K   Yes\n",
            "8    9     No        Married            75K    No\n"
          ]
        }
      ]
    },
    {
      "cell_type": "markdown",
      "source": [
        "Q3"
      ],
      "metadata": {
        "id": "eFec3Kb9OpLK"
      }
    },
    {
      "cell_type": "code",
      "source": [
        "print(df.loc[3:7])\n",
        "print()\n",
        "print(df.iloc[4:9,2:5])\n",
        "print()\n",
        "print(df.iloc[::,1:4])"
      ],
      "metadata": {
        "colab": {
          "base_uri": "https://localhost:8080/"
        },
        "id": "srAGVtTgOq5J",
        "outputId": "da8473b7-64a0-4280-9692-dbcda3309648"
      },
      "execution_count": 15,
      "outputs": [
        {
          "output_type": "stream",
          "name": "stdout",
          "text": [
            "   Tid Refund Marital Status Taxable Income Cheat\n",
            "3    4    Yes        Married           120K    No\n",
            "4    5     No       Divorced            95K   Yes\n",
            "5    6     No        Married            60K    No\n",
            "6    7    Yes       Divorced           220K    No\n",
            "7    8     No         Single            85K   Yes\n",
            "\n",
            "  Marital Status Taxable Income Cheat\n",
            "4       Divorced            95K   Yes\n",
            "5        Married            60K    No\n",
            "6       Divorced           220K    No\n",
            "7         Single            85K   Yes\n",
            "8        Married            75K    No\n",
            "\n",
            "  Refund Marital Status Taxable Income\n",
            "0    Yes         Single           125K\n",
            "1     No        Married           100K\n",
            "2     No         Single            70K\n",
            "3    Yes        Married           120K\n",
            "4     No       Divorced            95K\n",
            "5     No        Married            60K\n",
            "6    Yes       Divorced           220K\n",
            "7     No         Single            85K\n",
            "8     No        Married            75K\n",
            "9     No         Single            90K\n"
          ]
        }
      ]
    },
    {
      "cell_type": "markdown",
      "source": [
        "Q4"
      ],
      "metadata": {
        "id": "LD2dac_vQfec"
      }
    },
    {
      "cell_type": "code",
      "source": [
        "import kagglehub\n",
        "\n",
        "# Download latest version\n",
        "path = kagglehub.dataset_download(\"uciml/iris\")\n",
        "\n",
        "print(\"Path to dataset files:\", path)\n",
        "\n",
        "csv_path = \"/root/.cache/kagglehub/datasets/uciml/iris/versions/2/Iris.csv\"\n",
        "iris = pd.read_csv(csv_path)\n",
        "first = iris.head(5)\n",
        "print(first)\n"
      ],
      "metadata": {
        "colab": {
          "base_uri": "https://localhost:8080/"
        },
        "id": "jG-EgvloQg7W",
        "outputId": "f7b379bc-ea40-41c5-b7a9-ab73899272fe"
      },
      "execution_count": 34,
      "outputs": [
        {
          "output_type": "stream",
          "name": "stdout",
          "text": [
            "Path to dataset files: /root/.cache/kagglehub/datasets/uciml/iris/versions/2\n",
            "   Id  SepalLengthCm  SepalWidthCm  PetalLengthCm  PetalWidthCm      Species\n",
            "0   1            5.1           3.5            1.4           0.2  Iris-setosa\n",
            "1   2            4.9           3.0            1.4           0.2  Iris-setosa\n",
            "2   3            4.7           3.2            1.3           0.2  Iris-setosa\n",
            "3   4            4.6           3.1            1.5           0.2  Iris-setosa\n",
            "4   5            5.0           3.6            1.4           0.2  Iris-setosa\n"
          ]
        }
      ]
    },
    {
      "cell_type": "markdown",
      "source": [
        "Q5"
      ],
      "metadata": {
        "id": "MCOenZdUSUyR"
      }
    },
    {
      "cell_type": "code",
      "source": [
        "first = first.drop(index =3)\n",
        "first = first.drop(first.columns[2], axis=1)\n",
        "print(first)"
      ],
      "metadata": {
        "colab": {
          "base_uri": "https://localhost:8080/"
        },
        "id": "y9fCNgAVSbwM",
        "outputId": "0c29aec7-8b31-4deb-adb4-a30b3b86af85"
      },
      "execution_count": 35,
      "outputs": [
        {
          "output_type": "stream",
          "name": "stdout",
          "text": [
            "   Id  SepalLengthCm  PetalLengthCm  PetalWidthCm      Species\n",
            "0   1            5.1            1.4           0.2  Iris-setosa\n",
            "1   2            4.9            1.4           0.2  Iris-setosa\n",
            "2   3            4.7            1.3           0.2  Iris-setosa\n",
            "4   5            5.0            1.4           0.2  Iris-setosa\n"
          ]
        }
      ]
    },
    {
      "cell_type": "markdown",
      "source": [
        "Q6"
      ],
      "metadata": {
        "id": "QJRtx6TyScaa"
      }
    },
    {
      "cell_type": "code",
      "source": [
        "import csv\n",
        "\n",
        "csvdata = [[\"Employee_ID\",\"Name\",\"Department\",\"Age\",\"Salary\",\"Years_of_Experience\",\"Joining_Date\",\"Gender\",\"Bonus\",\"Rating\"],\n",
        "        [101,\"Alice\",\"HR\",29,50000,4,\"2020-03-15\",\"Female\",5000,4.5],\n",
        "        [102,\"Bob\",\"IT\",34,70000,8,\"2017-07-19\",\"Male\",7000,4.0],\n",
        "        [103,\"Charlie\",\"IT\",41,65000,10,\"2013-06-01\",\"Male\",6000,3.8],\n",
        "        [104,\"Diana\",\"Marketing\",28,55000,3,\"2021-02-10\",\"Female\",4500,4.7],\n",
        "        [105,\"Edward\",\"Sales\",38,60000,12,\"2010-11-25\",\"Male\",5000,3.5]]\n",
        "\n",
        "with open('employees.csv', 'w', newline='') as csvfile:\n",
        "  writer = csv.writer(csvfile)\n",
        "  writer.writerows(csvdata)\n",
        "\n",
        "Employeedata = pd.read_csv(\"employees.csv\")\n",
        "\n",
        "shape = Employeedata.shape\n",
        "print(f\"Shape = {shape}\")\n",
        "print()\n",
        "\n",
        "print(\"Summary: \")\n",
        "print(Employeedata.info())\n",
        "print()\n",
        "\n",
        "print(\"Descriptive statistics: \")\n",
        "print(Employeedata.describe())\n",
        "print()\n",
        "\n",
        "print(\"First 5 rows: \")\n",
        "print(Employeedata.head(5))\n",
        "print(\"Last 2 rows:\")\n",
        "print(Employeedata.tail(2))\n",
        "print()\n",
        "\n",
        "print(\"Avg salary: \", Employeedata[\"Salary\"].mean())\n",
        "print(\"Total bonus given: \",sum(Employeedata[\"Bonus\"]) )\n",
        "print(\"Age of youngest employee: \",min(Employeedata[\"Age\"]))\n",
        "print(\"Highest performance rating: \", max(Employeedata[\"Rating\"]))\n",
        "print()\n",
        "\n",
        "print(\"Sorted data: \")\n",
        "Employeedata.sort_values([\"Salary\"],\n",
        "                    axis=0,\n",
        "                    ascending=[False],\n",
        "                    inplace=True)\n",
        "print(Employeedata)\n",
        "\n",
        "print()\n",
        "rating = Employeedata[\"Rating\"]\n",
        "remarks =[]\n",
        "for x in rating:\n",
        "  if x>=4.5:\n",
        "    remarks.append('Excellent')\n",
        "  elif x>=4.0:\n",
        "    remarks.append('Good')\n",
        "  else:\n",
        "    remarks.append('Average')\n",
        "Employeedata[\"Performance\"]= remarks\n",
        "print(\"Data after adding column: \")\n",
        "print(Employeedata)\n",
        "print()\n",
        "\n",
        "print(\"Missing values: \\n\", Employeedata.isnull())\n",
        "print()\n",
        "\n",
        "Employeedata.rename(columns={\"Employee_ID\": \"ID\"}, inplace=True)\n",
        "print(\"After column name change: \")\n",
        "print(Employeedata)\n",
        "print()\n",
        "\n",
        "print(\"Employees with more than 5 years of experience: \")\n",
        "print(Employeedata.loc[Employeedata['Years_of_Experience']>5])\n",
        "print(\"Employees of IT department: \")\n",
        "print(Employeedata[Employeedata[\"Department\"].str.contains(\"IT\")])\n",
        "print()\n",
        "\n",
        "tax =[0.1*sal for sal in Employeedata[\"Salary\"]]\n",
        "Employeedata[\"Tax\"]=tax\n",
        "print(\"Adding new column: \")\n",
        "print(Employeedata)\n",
        "\n",
        "with open('Updatedemployees.csv', 'w', newline='') as csvfile:\n",
        "  writer = csv.writer(csvfile)\n",
        "  writer.writerows(Employeedata)\n"
      ],
      "metadata": {
        "colab": {
          "base_uri": "https://localhost:8080/"
        },
        "id": "oMs4PMbpSdh5",
        "outputId": "63dacb90-541f-4ea3-f4b1-b7e4d9346dc0"
      },
      "execution_count": 11,
      "outputs": [
        {
          "output_type": "stream",
          "name": "stdout",
          "text": [
            "Shape = (5, 10)\n",
            "\n",
            "Summary: \n",
            "<class 'pandas.core.frame.DataFrame'>\n",
            "RangeIndex: 5 entries, 0 to 4\n",
            "Data columns (total 10 columns):\n",
            " #   Column               Non-Null Count  Dtype  \n",
            "---  ------               --------------  -----  \n",
            " 0   Employee_ID          5 non-null      int64  \n",
            " 1   Name                 5 non-null      object \n",
            " 2   Department           5 non-null      object \n",
            " 3   Age                  5 non-null      int64  \n",
            " 4   Salary               5 non-null      int64  \n",
            " 5   Years_of_Experience  5 non-null      int64  \n",
            " 6   Joining_Date         5 non-null      object \n",
            " 7   Gender               5 non-null      object \n",
            " 8   Bonus                5 non-null      int64  \n",
            " 9   Rating               5 non-null      float64\n",
            "dtypes: float64(1), int64(5), object(4)\n",
            "memory usage: 532.0+ bytes\n",
            "None\n",
            "\n",
            "Descriptive statistics: \n",
            "       Employee_ID        Age       Salary  Years_of_Experience   Bonus  \\\n",
            "count     5.000000   5.000000      5.00000             5.000000     5.0   \n",
            "mean    103.000000  34.000000  60000.00000             7.400000  5500.0   \n",
            "std       1.581139   5.612486   7905.69415             3.847077  1000.0   \n",
            "min     101.000000  28.000000  50000.00000             3.000000  4500.0   \n",
            "25%     102.000000  29.000000  55000.00000             4.000000  5000.0   \n",
            "50%     103.000000  34.000000  60000.00000             8.000000  5000.0   \n",
            "75%     104.000000  38.000000  65000.00000            10.000000  6000.0   \n",
            "max     105.000000  41.000000  70000.00000            12.000000  7000.0   \n",
            "\n",
            "         Rating  \n",
            "count  5.000000  \n",
            "mean   4.100000  \n",
            "std    0.494975  \n",
            "min    3.500000  \n",
            "25%    3.800000  \n",
            "50%    4.000000  \n",
            "75%    4.500000  \n",
            "max    4.700000  \n",
            "\n",
            "First 5 rows: \n",
            "   Employee_ID     Name Department  Age  Salary  Years_of_Experience  \\\n",
            "0          101    Alice         HR   29   50000                    4   \n",
            "1          102      Bob         IT   34   70000                    8   \n",
            "2          103  Charlie         IT   41   65000                   10   \n",
            "3          104    Diana  Marketing   28   55000                    3   \n",
            "4          105   Edward      Sales   38   60000                   12   \n",
            "\n",
            "  Joining_Date  Gender  Bonus  Rating  \n",
            "0   2020-03-15  Female   5000     4.5  \n",
            "1   2017-07-19    Male   7000     4.0  \n",
            "2   2013-06-01    Male   6000     3.8  \n",
            "3   2021-02-10  Female   4500     4.7  \n",
            "4   2010-11-25    Male   5000     3.5  \n",
            "Last 2 rows:\n",
            "   Employee_ID    Name Department  Age  Salary  Years_of_Experience  \\\n",
            "3          104   Diana  Marketing   28   55000                    3   \n",
            "4          105  Edward      Sales   38   60000                   12   \n",
            "\n",
            "  Joining_Date  Gender  Bonus  Rating  \n",
            "3   2021-02-10  Female   4500     4.7  \n",
            "4   2010-11-25    Male   5000     3.5  \n",
            "\n",
            "Avg salary:  60000.0\n",
            "Total bonus given:  27500\n",
            "Age of youngest employee:  28\n",
            "Highest performance rating:  4.7\n",
            "\n",
            "Sorted data: \n",
            "   Employee_ID     Name Department  Age  Salary  Years_of_Experience  \\\n",
            "1          102      Bob         IT   34   70000                    8   \n",
            "2          103  Charlie         IT   41   65000                   10   \n",
            "4          105   Edward      Sales   38   60000                   12   \n",
            "3          104    Diana  Marketing   28   55000                    3   \n",
            "0          101    Alice         HR   29   50000                    4   \n",
            "\n",
            "  Joining_Date  Gender  Bonus  Rating  \n",
            "1   2017-07-19    Male   7000     4.0  \n",
            "2   2013-06-01    Male   6000     3.8  \n",
            "4   2010-11-25    Male   5000     3.5  \n",
            "3   2021-02-10  Female   4500     4.7  \n",
            "0   2020-03-15  Female   5000     4.5  \n",
            "\n",
            "Data after adding column: \n",
            "   Employee_ID     Name Department  Age  Salary  Years_of_Experience  \\\n",
            "1          102      Bob         IT   34   70000                    8   \n",
            "2          103  Charlie         IT   41   65000                   10   \n",
            "4          105   Edward      Sales   38   60000                   12   \n",
            "3          104    Diana  Marketing   28   55000                    3   \n",
            "0          101    Alice         HR   29   50000                    4   \n",
            "\n",
            "  Joining_Date  Gender  Bonus  Rating Performance  \n",
            "1   2017-07-19    Male   7000     4.0        Good  \n",
            "2   2013-06-01    Male   6000     3.8     Average  \n",
            "4   2010-11-25    Male   5000     3.5     Average  \n",
            "3   2021-02-10  Female   4500     4.7   Excellent  \n",
            "0   2020-03-15  Female   5000     4.5   Excellent  \n",
            "\n",
            "Missing values: \n",
            "    Employee_ID   Name  Department    Age  Salary  Years_of_Experience  \\\n",
            "1        False  False       False  False   False                False   \n",
            "2        False  False       False  False   False                False   \n",
            "4        False  False       False  False   False                False   \n",
            "3        False  False       False  False   False                False   \n",
            "0        False  False       False  False   False                False   \n",
            "\n",
            "   Joining_Date  Gender  Bonus  Rating  Performance  \n",
            "1         False   False  False   False        False  \n",
            "2         False   False  False   False        False  \n",
            "4         False   False  False   False        False  \n",
            "3         False   False  False   False        False  \n",
            "0         False   False  False   False        False  \n",
            "\n",
            "After column name change: \n",
            "    ID     Name Department  Age  Salary  Years_of_Experience Joining_Date  \\\n",
            "1  102      Bob         IT   34   70000                    8   2017-07-19   \n",
            "2  103  Charlie         IT   41   65000                   10   2013-06-01   \n",
            "4  105   Edward      Sales   38   60000                   12   2010-11-25   \n",
            "3  104    Diana  Marketing   28   55000                    3   2021-02-10   \n",
            "0  101    Alice         HR   29   50000                    4   2020-03-15   \n",
            "\n",
            "   Gender  Bonus  Rating Performance  \n",
            "1    Male   7000     4.0        Good  \n",
            "2    Male   6000     3.8     Average  \n",
            "4    Male   5000     3.5     Average  \n",
            "3  Female   4500     4.7   Excellent  \n",
            "0  Female   5000     4.5   Excellent  \n",
            "\n",
            "Employees with more than 5 years of experience: \n",
            "    ID     Name Department  Age  Salary  Years_of_Experience Joining_Date  \\\n",
            "1  102      Bob         IT   34   70000                    8   2017-07-19   \n",
            "2  103  Charlie         IT   41   65000                   10   2013-06-01   \n",
            "4  105   Edward      Sales   38   60000                   12   2010-11-25   \n",
            "\n",
            "  Gender  Bonus  Rating Performance  \n",
            "1   Male   7000     4.0        Good  \n",
            "2   Male   6000     3.8     Average  \n",
            "4   Male   5000     3.5     Average  \n",
            "Employees of IT department: \n",
            "    ID     Name Department  Age  Salary  Years_of_Experience Joining_Date  \\\n",
            "1  102      Bob         IT   34   70000                    8   2017-07-19   \n",
            "2  103  Charlie         IT   41   65000                   10   2013-06-01   \n",
            "\n",
            "  Gender  Bonus  Rating Performance  \n",
            "1   Male   7000     4.0        Good  \n",
            "2   Male   6000     3.8     Average  \n",
            "\n",
            "Adding new column: \n",
            "    ID     Name Department  Age  Salary  Years_of_Experience Joining_Date  \\\n",
            "1  102      Bob         IT   34   70000                    8   2017-07-19   \n",
            "2  103  Charlie         IT   41   65000                   10   2013-06-01   \n",
            "4  105   Edward      Sales   38   60000                   12   2010-11-25   \n",
            "3  104    Diana  Marketing   28   55000                    3   2021-02-10   \n",
            "0  101    Alice         HR   29   50000                    4   2020-03-15   \n",
            "\n",
            "   Gender  Bonus  Rating Performance     Tax  \n",
            "1    Male   7000     4.0        Good  7000.0  \n",
            "2    Male   6000     3.8     Average  6500.0  \n",
            "4    Male   5000     3.5     Average  6000.0  \n",
            "3  Female   4500     4.7   Excellent  5500.0  \n",
            "0  Female   5000     4.5   Excellent  5000.0  \n"
          ]
        }
      ]
    },
    {
      "cell_type": "code",
      "source": [],
      "metadata": {
        "id": "JBT2Qdd6VC4Z"
      },
      "execution_count": null,
      "outputs": []
    }
  ]
}